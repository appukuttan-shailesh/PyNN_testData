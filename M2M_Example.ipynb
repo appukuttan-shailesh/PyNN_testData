{
 "cells": [
  {
   "cell_type": "code",
   "execution_count": 1,
   "metadata": {
    "collapsed": false
   },
   "outputs": [],
   "source": [
    "# Setup when required\n",
    "#!rm -rf /home/jupyter/.local/lib/python2.7/site-packages/sciunit* ./sciunit\n",
    "#!git clone -b test_m2m https://github.com/appukuttan-shailesh/sciunit\n",
    "#!pip install -q ./sciunit"
   ]
  },
  {
   "cell_type": "code",
   "execution_count": 2,
   "metadata": {
    "collapsed": false
   },
   "outputs": [],
   "source": [
    "import sciunit"
   ]
  },
  {
   "cell_type": "markdown",
   "metadata": {},
   "source": [
    "### Creating Dummy Capability"
   ]
  },
  {
   "cell_type": "code",
   "execution_count": 3,
   "metadata": {
    "collapsed": false
   },
   "outputs": [],
   "source": [
    "class HasValue(sciunit.Capability):\n",
    "    \"\"\"Indicates that the model has an attribute named 'value'\"\"\"\n",
    "\n",
    "    def get_value(self):\n",
    "        \"\"\"Must return a float value.\"\"\"\n",
    "        raise NotImplementedError()"
   ]
  },
  {
   "cell_type": "markdown",
   "metadata": {},
   "source": [
    "### Creating Dummy Model 1"
   ]
  },
  {
   "cell_type": "code",
   "execution_count": 4,
   "metadata": {
    "collapsed": false
   },
   "outputs": [],
   "source": [
    "class model_v1(sciunit.Model, HasValue):     \n",
    "        def __init__(self, name=\"Model_v1\"):\n",
    "            self.set_value()\n",
    "            sciunit.Model.__init__(self, name=name)\n",
    "            self.description = \"Dummy model 1 for testing Test_M2M\"\n",
    "\n",
    "        def set_value(self):\n",
    "            self.value = {\"value\" : \"260 um\"}\n",
    "\n",
    "        def get_value(self):\n",
    "            return self.value\n"
   ]
  },
  {
   "cell_type": "markdown",
   "metadata": {},
   "source": [
    "### Creating Dummy Model 2\n",
    "(could simply have created another instance of above model with different values)"
   ]
  },
  {
   "cell_type": "code",
   "execution_count": 5,
   "metadata": {
    "collapsed": true
   },
   "outputs": [],
   "source": [
    "class model_v2(sciunit.Model, HasValue):     \n",
    "        def __init__(self, name=\"Model_v2\"):\n",
    "            self.set_value()\n",
    "            sciunit.Model.__init__(self, name=name)\n",
    "            self.description = \"Dummy model 2 for testing Test_M2M\"\n",
    "\n",
    "        def set_value(self):\n",
    "            self.value = {\"value\" : \"250 um\"}\n",
    "\n",
    "        def get_value(self):\n",
    "            return self.value"
   ]
  },
  {
   "cell_type": "markdown",
   "metadata": {},
   "source": [
    "### Creating Model to Model Test"
   ]
  },
  {
   "cell_type": "code",
   "execution_count": 6,
   "metadata": {
    "collapsed": true
   },
   "outputs": [],
   "source": [
    "import sciunit\n",
    "import sciunit.scores\n",
    "import quantities\n",
    "\n",
    "class CellValueTest_M2M(sciunit.TestM2M):\n",
    "    \"\"\"Dummy Test\"\"\"\n",
    "    score_type = sciunit.scores.FloatScore\n",
    "    units = quantities.um\n",
    "    description = (\"Tests the parameter 'value' between two models\")\n",
    "\n",
    "    def __init__(self, observation=None, name=\"DummyTest-M2M\"):\n",
    "        sciunit.TestM2M.__init__(self,observation,name)\n",
    "        self.required_capabilities += (HasValue,)        \n",
    "\n",
    "    def format_data(self, data):\n",
    "        \"\"\"\n",
    "        This accepts data input in the form:\n",
    "        ***** (prediction) *****\n",
    "        {\"value\": \"x um\"}\n",
    "\n",
    "        It splits the value to numeric quantities\n",
    "        and their units (via quantities package).\n",
    "        \"\"\"\n",
    "        for key,val in data.items():\n",
    "            try:\n",
    "                quantity_parts = val.split(\" \")\n",
    "                number = float(quantity_parts[0])\n",
    "                units_str = \" \".join(quantity_parts[1:])\n",
    "                assert (units_str == self.units.symbol)\n",
    "                data[key] = quantities.Quantity(number, self.units)\n",
    "            except ValueError:\n",
    "                raise sciunit.Error(\"Values not in appropriate format. Required units: um\")\n",
    "        return data\n",
    "    \n",
    "    def validate_observation(self, observation):\n",
    "        if self.observation:\n",
    "            self.observation = self.format_data(observation)\n",
    "\n",
    "    def generate_prediction(self, model, verbose=False):\n",
    "        \"\"\"Implementation of sciunit.Test.generate_prediction.\"\"\"\n",
    "        self.model_name = model.name\n",
    "        prediction = model.get_value()\n",
    "        prediction = self.format_data(prediction)\n",
    "        return prediction\n",
    "\n",
    "    def compute_score(self, prediction1, prediction2, verbose=False):\n",
    "        \"\"\"Implementation of sciunit.Test.score_prediction.\"\"\"\n",
    "        #print \"prediction 1 = \", prediction1\n",
    "        #print \"prediction 2 = \", prediction2\n",
    "        score = sciunit.scores.FloatScore(prediction1[\"value\"].item() - prediction2[\"value\"].item())\n",
    "        score.description = \"Difference between model predictions\"\n",
    "        return score"
   ]
  },
  {
   "cell_type": "code",
   "execution_count": 7,
   "metadata": {
    "collapsed": false,
    "scrolled": true
   },
   "outputs": [],
   "source": [
    "#valueTest = CellValueTest_M2M()\n",
    "valueTest = CellValueTest_M2M(observation={\"value\": \"275 um\"})\n",
    "Model_v1 = model_v1()\n",
    "Model_v2 = model_v2()\n",
    "sm = valueTest.judge([Model_v1, Model_v2])"
   ]
  },
  {
   "cell_type": "code",
   "execution_count": 8,
   "metadata": {
    "collapsed": false
   },
   "outputs": [
    {
     "name": "stdout",
     "output_type": "stream",
     "text": [
      "            observation Model_v1 Model_v2\n",
      "observation           0       15       25\n",
      "Model_v1            -15        0       10\n",
      "Model_v2            -25      -10        0\n"
     ]
    }
   ],
   "source": [
    "print sm"
   ]
  },
  {
   "cell_type": "code",
   "execution_count": 9,
   "metadata": {
    "collapsed": false
   },
   "outputs": [
    {
     "name": "stdout",
     "output_type": "stream",
     "text": [
      "Index([observation, Model_v1, Model_v2], dtype='object')\n",
      "Index([observation, Model_v1, Model_v2], dtype='object')\n"
     ]
    }
   ],
   "source": [
    "print sm.index\n",
    "print sm.columns"
   ]
  },
  {
   "cell_type": "code",
   "execution_count": 10,
   "metadata": {
    "collapsed": false
   },
   "outputs": [
    {
     "name": "stdout",
     "output_type": "stream",
     "text": [
      "observation    -15\n",
      "Model_v1         0\n",
      "Model_v2        10\n",
      "Name: Model_v1, dtype: object\n",
      "-----\n",
      "observation    -15\n",
      "Model_v1         0\n",
      "Model_v2        10\n",
      "Name: Model_v1, dtype: object\n"
     ]
    }
   ],
   "source": [
    "print sm['Model_v1']\n",
    "print \"-----\"\n",
    "print sm[Model_v1]"
   ]
  },
  {
   "cell_type": "code",
   "execution_count": 11,
   "metadata": {
    "collapsed": false
   },
   "outputs": [
    {
     "name": "stdout",
     "output_type": "stream",
     "text": [
      "0\n",
      "-----\n",
      "0\n"
     ]
    }
   ],
   "source": [
    "print sm['Model_v1']['Model_v1']\n",
    "print \"-----\"\n",
    "print sm[Model_v1][Model_v1]"
   ]
  },
  {
   "cell_type": "code",
   "execution_count": 12,
   "metadata": {
    "collapsed": false
   },
   "outputs": [
    {
     "name": "stdout",
     "output_type": "stream",
     "text": [
      "10\n",
      "-----\n",
      "10\n"
     ]
    }
   ],
   "source": [
    "print sm['Model_v1']['Model_v2']\n",
    "print \"-----\"\n",
    "print sm[Model_v1][Model_v2]"
   ]
  },
  {
   "cell_type": "code",
   "execution_count": 13,
   "metadata": {
    "collapsed": false
   },
   "outputs": [
    {
     "name": "stdout",
     "output_type": "stream",
     "text": [
      "15\n",
      "10\n",
      "15\n",
      "10\n",
      "10\n"
     ]
    }
   ],
   "source": [
    "print sm.iloc[0][1]\n",
    "print sm.loc[Model_v1][Model_v2]\n",
    "print sm.iat[0,1]\n",
    "print sm.at[Model_v1,Model_v2]\n",
    "print sm.get_value(Model_v1, Model_v2)"
   ]
  },
  {
   "cell_type": "code",
   "execution_count": 14,
   "metadata": {
    "collapsed": false
   },
   "outputs": [
    {
     "name": "stdout",
     "output_type": "stream",
     "text": [
      "15\n",
      "-----\n",
      "15\n"
     ]
    }
   ],
   "source": [
    "print sm[valueTest][Model_v1]\n",
    "print \"-----\"\n",
    "print sm[\"observation\"][Model_v1]"
   ]
  }
 ],
 "metadata": {
  "anaconda-cloud": {},
  "kernelspec": {
   "display_name": "Python [default]",
   "language": "python",
   "name": "python2"
  },
  "language_info": {
   "codemirror_mode": {
    "name": "ipython",
    "version": 2
   },
   "file_extension": ".py",
   "mimetype": "text/x-python",
   "name": "python",
   "nbconvert_exporter": "python",
   "pygments_lexer": "ipython2",
   "version": "2.7.12"
  }
 },
 "nbformat": 4,
 "nbformat_minor": 0
}
